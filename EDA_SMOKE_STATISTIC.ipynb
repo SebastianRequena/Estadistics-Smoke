{
  "cells": [
    {
      "cell_type": "markdown",
      "id": "abec96cc-1c52-4cea-882c-982f064f5d66",
      "metadata": {
        "id": "abec96cc-1c52-4cea-882c-982f064f5d66"
      },
      "source": [
        "EJERCICIO ESTADISTICAS CIGARROS"
      ]
    },
    {
      "cell_type": "markdown",
      "id": "8059352b-2550-4533-ba7f-286314a4a599",
      "metadata": {
        "id": "8059352b-2550-4533-ba7f-286314a4a599"
      },
      "source": [
        "La OMS estima que cada año se producen 12 millones de muertes en todo el mundo debido a enfermedades cardíacas,\n",
        "producidas en su gran mayoría por enfermedades cardiovasculares.\n",
        "El pronóstico temprano de las enfermedades cardiovasculares puede ayudar en la toma de decisiones sobre cambios en el estilo de vida en pacientes\n",
        "de alto riesgo y reducir las complicaciones."
      ]
    },
    {
      "cell_type": "markdown",
      "id": "597b36fb-060a-4fec-8001-4fd3c7ee80a8",
      "metadata": {
        "id": "597b36fb-060a-4fec-8001-4fd3c7ee80a8"
      },
      "source": [
        "A partir de estos datos, buscaremos realizar algunas descripciones predictivos.\n",
        "1. Cargaremos los datos y explóralmos, despues eliminanos los datos nulos o incorrectos\n"
      ]
    },
    {
      "cell_type": "code",
      "execution_count": null,
      "id": "5561a7e5-dcbf-4203-b383-deecfefd898a",
      "metadata": {
        "id": "5561a7e5-dcbf-4203-b383-deecfefd898a",
        "outputId": "c4898067-c02f-456b-f22f-b1727042a95f"
      },
      "outputs": [
        {
          "data": {
            "text/html": [
              "<div>\n",
              "<style scoped>\n",
              "    .dataframe tbody tr th:only-of-type {\n",
              "        vertical-align: middle;\n",
              "    }\n",
              "\n",
              "    .dataframe tbody tr th {\n",
              "        vertical-align: top;\n",
              "    }\n",
              "\n",
              "    .dataframe thead th {\n",
              "        text-align: right;\n",
              "    }\n",
              "</style>\n",
              "<table border=\"1\" class=\"dataframe\">\n",
              "  <thead>\n",
              "    <tr style=\"text-align: right;\">\n",
              "      <th></th>\n",
              "      <th>sex</th>\n",
              "      <th>age</th>\n",
              "      <th>education</th>\n",
              "      <th>currentSmoker</th>\n",
              "      <th>cigsPerDay</th>\n",
              "      <th>BPMeds</th>\n",
              "      <th>prevalentStroke</th>\n",
              "      <th>prevalentHyp</th>\n",
              "      <th>diabetes</th>\n",
              "      <th>totChol</th>\n",
              "      <th>sysBP</th>\n",
              "      <th>diaBP</th>\n",
              "      <th>BMI</th>\n",
              "      <th>heartRate</th>\n",
              "      <th>glucose</th>\n",
              "      <th>TenYearCHD</th>\n",
              "    </tr>\n",
              "  </thead>\n",
              "  <tbody>\n",
              "    <tr>\n",
              "      <th>0</th>\n",
              "      <td>M</td>\n",
              "      <td>39</td>\n",
              "      <td>4.0</td>\n",
              "      <td>No</td>\n",
              "      <td>0.0</td>\n",
              "      <td>0.0</td>\n",
              "      <td>0</td>\n",
              "      <td>0</td>\n",
              "      <td>0</td>\n",
              "      <td>195.0</td>\n",
              "      <td>106.0</td>\n",
              "      <td>70.0</td>\n",
              "      <td>26.97</td>\n",
              "      <td>80.0</td>\n",
              "      <td>77.0</td>\n",
              "      <td>0</td>\n",
              "    </tr>\n",
              "    <tr>\n",
              "      <th>1</th>\n",
              "      <td>F</td>\n",
              "      <td>46</td>\n",
              "      <td>2.0</td>\n",
              "      <td>No</td>\n",
              "      <td>0.0</td>\n",
              "      <td>0.0</td>\n",
              "      <td>0</td>\n",
              "      <td>0</td>\n",
              "      <td>0</td>\n",
              "      <td>250.0</td>\n",
              "      <td>121.0</td>\n",
              "      <td>81.0</td>\n",
              "      <td>28.73</td>\n",
              "      <td>95.0</td>\n",
              "      <td>76.0</td>\n",
              "      <td>0</td>\n",
              "    </tr>\n",
              "    <tr>\n",
              "      <th>2</th>\n",
              "      <td>M</td>\n",
              "      <td>48</td>\n",
              "      <td>1.0</td>\n",
              "      <td>Yes</td>\n",
              "      <td>20.0</td>\n",
              "      <td>0.0</td>\n",
              "      <td>0</td>\n",
              "      <td>0</td>\n",
              "      <td>0</td>\n",
              "      <td>245.0</td>\n",
              "      <td>127.5</td>\n",
              "      <td>80.0</td>\n",
              "      <td>25.34</td>\n",
              "      <td>75.0</td>\n",
              "      <td>70.0</td>\n",
              "      <td>0</td>\n",
              "    </tr>\n",
              "    <tr>\n",
              "      <th>3</th>\n",
              "      <td>F</td>\n",
              "      <td>61</td>\n",
              "      <td>3.0</td>\n",
              "      <td>Yes</td>\n",
              "      <td>30.0</td>\n",
              "      <td>0.0</td>\n",
              "      <td>0</td>\n",
              "      <td>1</td>\n",
              "      <td>0</td>\n",
              "      <td>225.0</td>\n",
              "      <td>150.0</td>\n",
              "      <td>95.0</td>\n",
              "      <td>28.58</td>\n",
              "      <td>65.0</td>\n",
              "      <td>103.0</td>\n",
              "      <td>1</td>\n",
              "    </tr>\n",
              "    <tr>\n",
              "      <th>4</th>\n",
              "      <td>F</td>\n",
              "      <td>46</td>\n",
              "      <td>3.0</td>\n",
              "      <td>Yes</td>\n",
              "      <td>23.0</td>\n",
              "      <td>0.0</td>\n",
              "      <td>0</td>\n",
              "      <td>0</td>\n",
              "      <td>0</td>\n",
              "      <td>285.0</td>\n",
              "      <td>130.0</td>\n",
              "      <td>84.0</td>\n",
              "      <td>23.10</td>\n",
              "      <td>85.0</td>\n",
              "      <td>85.0</td>\n",
              "      <td>0</td>\n",
              "    </tr>\n",
              "  </tbody>\n",
              "</table>\n",
              "</div>"
            ],
            "text/plain": [
              "  sex  age  education currentSmoker  cigsPerDay  BPMeds  prevalentStroke  \\\n",
              "0   M   39        4.0            No         0.0     0.0                0   \n",
              "1   F   46        2.0            No         0.0     0.0                0   \n",
              "2   M   48        1.0           Yes        20.0     0.0                0   \n",
              "3   F   61        3.0           Yes        30.0     0.0                0   \n",
              "4   F   46        3.0           Yes        23.0     0.0                0   \n",
              "\n",
              "   prevalentHyp  diabetes  totChol  sysBP  diaBP    BMI  heartRate  glucose  \\\n",
              "0             0         0    195.0  106.0   70.0  26.97       80.0     77.0   \n",
              "1             0         0    250.0  121.0   81.0  28.73       95.0     76.0   \n",
              "2             0         0    245.0  127.5   80.0  25.34       75.0     70.0   \n",
              "3             1         0    225.0  150.0   95.0  28.58       65.0    103.0   \n",
              "4             0         0    285.0  130.0   84.0  23.10       85.0     85.0   \n",
              "\n",
              "   TenYearCHD  \n",
              "0           0  \n",
              "1           0  \n",
              "2           0  \n",
              "3           1  \n",
              "4           0  "
            ]
          },
          "execution_count": 1,
          "metadata": {},
          "output_type": "execute_result"
        }
      ],
      "source": [
        "import pandas as pd\n",
        "import numpy as np\n",
        "import matplotlib.pyplot as plt\n",
        "from sklearn.linear_model import LogisticRegression\n",
        "from sklearn.metrics import accuracy_score, classification_report, confusion_matrix, precision_score,confusion_matrix, roc_auc_score, average_precision_score, roc_curve, precision_recall_curve, auc\n",
        "import seaborn as sns\n",
        "import statsmodels.api as sm\n",
        "from scipy import stats\n",
        "\n",
        "df=pd.read_csv('cardio.csv')\n",
        "df.head()"
      ]
    },
    {
      "cell_type": "code",
      "execution_count": null,
      "id": "127f26fc-26e2-4a01-92d5-810e3557fa58",
      "metadata": {
        "id": "127f26fc-26e2-4a01-92d5-810e3557fa58",
        "outputId": "d9b26b7b-357c-47a0-e2ca-7dee32fdf79e"
      },
      "outputs": [
        {
          "name": "stdout",
          "output_type": "stream",
          "text": [
            "<class 'pandas.core.frame.DataFrame'>\n",
            "RangeIndex: 4238 entries, 0 to 4237\n",
            "Data columns (total 16 columns):\n",
            " #   Column           Non-Null Count  Dtype  \n",
            "---  ------           --------------  -----  \n",
            " 0   sex              4238 non-null   object \n",
            " 1   age              4238 non-null   int64  \n",
            " 2   education        4133 non-null   float64\n",
            " 3   currentSmoker    4238 non-null   object \n",
            " 4   cigsPerDay       4209 non-null   float64\n",
            " 5   BPMeds           4185 non-null   float64\n",
            " 6   prevalentStroke  4238 non-null   int64  \n",
            " 7   prevalentHyp     4238 non-null   int64  \n",
            " 8   diabetes         4238 non-null   int64  \n",
            " 9   totChol          4188 non-null   float64\n",
            " 10  sysBP            4238 non-null   float64\n",
            " 11  diaBP            4238 non-null   float64\n",
            " 12  BMI              4219 non-null   float64\n",
            " 13  heartRate        4237 non-null   float64\n",
            " 14  glucose          3850 non-null   float64\n",
            " 15  TenYearCHD       4238 non-null   int64  \n",
            "dtypes: float64(9), int64(5), object(2)\n",
            "memory usage: 529.9+ KB\n"
          ]
        }
      ],
      "source": [
        "df.info()"
      ]
    },
    {
      "cell_type": "code",
      "execution_count": null,
      "id": "0fdbb547-ece6-4ed4-990c-65fbbb680006",
      "metadata": {
        "id": "0fdbb547-ece6-4ed4-990c-65fbbb680006"
      },
      "outputs": [],
      "source": [
        "\"\"\"\n",
        "Haremos una formula que reemplaza todos los NA por la mediana en la columna, debemos despues hacerlo en cada columna que no tenga los 4238 casos, la\n",
        "idea es trabajar con una DF completa, sin datos faltantes.\n",
        "\"\"\"\n",
        "def rellenar_tablas(df,columna):\n",
        "    mediana = df[columna].median()\n",
        "    df[columna].fillna(mediana, inplace=True)\n",
        "    return df"
      ]
    },
    {
      "cell_type": "code",
      "execution_count": null,
      "id": "d332d991-c3d8-4b83-ae4d-58b88abcf22f",
      "metadata": {
        "id": "d332d991-c3d8-4b83-ae4d-58b88abcf22f"
      },
      "outputs": [],
      "source": [
        "#vamos a aplicar esta formula en cada columna con diferencias, que serian las siguientes:\n",
        "df = rellenar_tablas(df,'education')\n",
        "df = rellenar_tablas(df,'cigsPerDay')\n",
        "df = rellenar_tablas(df,'BPMeds')\n",
        "df = rellenar_tablas(df,'totChol')\n",
        "df = rellenar_tablas(df,'BMI')\n",
        "df = rellenar_tablas(df,'heartRate')\n",
        "df = rellenar_tablas(df,'glucose')"
      ]
    },
    {
      "cell_type": "code",
      "execution_count": null,
      "id": "62df826d-87fe-438c-8359-17a888ba4626",
      "metadata": {
        "id": "62df826d-87fe-438c-8359-17a888ba4626",
        "outputId": "efc3da03-9892-44b9-e1eb-27b611d20085"
      },
      "outputs": [
        {
          "name": "stdout",
          "output_type": "stream",
          "text": [
            "<class 'pandas.core.frame.DataFrame'>\n",
            "RangeIndex: 4238 entries, 0 to 4237\n",
            "Data columns (total 16 columns):\n",
            " #   Column           Non-Null Count  Dtype  \n",
            "---  ------           --------------  -----  \n",
            " 0   sex              4238 non-null   object \n",
            " 1   age              4238 non-null   int64  \n",
            " 2   education        4238 non-null   float64\n",
            " 3   currentSmoker    4238 non-null   object \n",
            " 4   cigsPerDay       4238 non-null   float64\n",
            " 5   BPMeds           4238 non-null   float64\n",
            " 6   prevalentStroke  4238 non-null   int64  \n",
            " 7   prevalentHyp     4238 non-null   int64  \n",
            " 8   diabetes         4238 non-null   int64  \n",
            " 9   totChol          4238 non-null   float64\n",
            " 10  sysBP            4238 non-null   float64\n",
            " 11  diaBP            4238 non-null   float64\n",
            " 12  BMI              4238 non-null   float64\n",
            " 13  heartRate        4238 non-null   float64\n",
            " 14  glucose          4238 non-null   float64\n",
            " 15  TenYearCHD       4238 non-null   int64  \n",
            "dtypes: float64(9), int64(5), object(2)\n",
            "memory usage: 529.9+ KB\n"
          ]
        }
      ],
      "source": [
        "#Ahora revisaremos nuestro nuevo DF con los nulos reemplazados\n",
        "df.info()\n",
        "\n",
        "#Esta completo, podemos seguir avanzando entonces"
      ]
    },
    {
      "cell_type": "markdown",
      "id": "3c202c99-cc0c-4cea-823e-8270bb75035f",
      "metadata": {
        "id": "3c202c99-cc0c-4cea-823e-8270bb75035f"
      },
      "source": [
        "2. Escogeremos tres variables cuantitativas y realizaremos un análisis descriptivo de ellas, utilizando indicadores y gráﬁcos.\n"
      ]
    },
    {
      "cell_type": "code",
      "execution_count": null,
      "id": "371220e8-b4b5-4599-babd-608c49bf12e6",
      "metadata": {
        "id": "371220e8-b4b5-4599-babd-608c49bf12e6"
      },
      "outputs": [],
      "source": [
        "\"\"\"\n",
        "Haremos una formula que te reuna los indicadores solicitados extras, de esta manera se hace mas facil entender cada columna\n",
        "\"\"\"\n",
        "def datos_indicadores(df, columna):\n",
        "    print(\"Estos son los datos indicadores de tu columna:\")\n",
        "    # Media\n",
        "    mean = df[columna].mean()\n",
        "    print(f\"Media: {mean}\")\n",
        "\n",
        "    # Mediana\n",
        "    median = df[columna].median()\n",
        "    print(f\"Mediana: {median}\")\n",
        "\n",
        "    # Moda\n",
        "    mode = df[columna].mode()\n",
        "    print(f\"Moda: {mode.values}\")\n",
        "\n",
        "    # Desviación estándar\n",
        "    std_dev = df[columna].std()\n",
        "    print(f\"Desviación estándar: {std_dev}\")\n",
        "\n",
        "    # Rango\n",
        "    range_ = df[columna].max() - df[columna].min()\n",
        "    print(f\"Rango: {range_}\")\n",
        "\n",
        "    descripcion = df[columna].describe()\n",
        "    print(f\"Datos basicos: {descripcion}\")"
      ]
    },
    {
      "cell_type": "code",
      "execution_count": null,
      "id": "1f47e13b-6361-4f30-bf4e-cad26f0bb73a",
      "metadata": {
        "id": "1f47e13b-6361-4f30-bf4e-cad26f0bb73a",
        "outputId": "c58a2189-8ba9-4bf9-eb80-9107dc856efc"
      },
      "outputs": [
        {
          "name": "stdout",
          "output_type": "stream",
          "text": [
            "Estos son los datos indicadores de tu columna:\n",
            "Media: 81.60358659745162\n",
            "Mediana: 78.0\n",
            "Moda: [78.]\n",
            "Desviación estándar: 22.86524554289783\n",
            "Rango: 354.0\n",
            "Datos basicos: count    4238.000000\n",
            "mean       81.603587\n",
            "std        22.865246\n",
            "min        40.000000\n",
            "25%        72.000000\n",
            "50%        78.000000\n",
            "75%        85.000000\n",
            "max       394.000000\n",
            "Name: glucose, dtype: float64\n"
          ]
        }
      ],
      "source": [
        "#Vamos a comenzar con la variable de la columna de glucosa, estoy seguro que habra algo por ahi que comentar. por aqui debe haber una mayor dispersion.\n",
        "\n",
        "datos_indicadores(df, 'glucose')"
      ]
    },
    {
      "cell_type": "code",
      "execution_count": null,
      "id": "c6962110-b8af-4ac2-89c7-a5f1445746c0",
      "metadata": {
        "id": "c6962110-b8af-4ac2-89c7-a5f1445746c0",
        "outputId": "4921170d-040e-4aaf-d201-3fe0a62f1941"
      },
      "outputs": [
        {
          "data": {
            "image/png": "[encoded data removed]",
            "text/plain": [
              "<Figure size 640x480 with 1 Axes>"
            ]
          },
          "metadata": {},
          "output_type": "display_data"
        }
      ],
      "source": [
        "# Crear el boxplot para comparar las edades del grafico\n",
        "sns.boxplot(y='glucose', data=df)\n",
        "\n",
        "# Personalización opcional\n",
        "plt.title('Box Plot - Rango glucosa en los pacientes')\n",
        "plt.xlabel('Nivel de glucosa')\n",
        "\n",
        "# Mostrar el boxplot\n",
        "plt.show()"
      ]
    },
    {
      "cell_type": "code",
      "execution_count": null,
      "id": "89dd8162-3c8c-4c45-bb0f-7e60c9fcb3a5",
      "metadata": {
        "scrolled": true,
        "id": "89dd8162-3c8c-4c45-bb0f-7e60c9fcb3a5"
      },
      "outputs": [],
      "source": [
        "\"\"\"\n",
        "Interesante, por aqui se logra notar que existe una tendencia por sobre la media, tenemos bastantes casos atipicos que hablan de un alto nivel de\n",
        "glucosa en estas personas, por ahora nuestro grafico señala que lo normal son 81 aprox. Pero tenemos bastantes variables mas que pueden incidir,\n",
        "en los proximos ejercicios los compararemos con otras columnas, o buscaremos las correlaciones para notar la coincidencia entre ellas.\n",
        "\"\"\""
      ]
    },
    {
      "cell_type": "code",
      "execution_count": null,
      "id": "f9a3628d-859f-4508-bcda-48d003231490",
      "metadata": {
        "id": "f9a3628d-859f-4508-bcda-48d003231490",
        "outputId": "660b1eef-54e7-4b7e-e0e4-87239316d808"
      },
      "outputs": [
        {
          "name": "stdout",
          "output_type": "stream",
          "text": [
            "Estos son los datos indicadores de tu columna:\n",
            "Media: 75.87871637564889\n",
            "Mediana: 75.0\n",
            "Moda: [75.]\n",
            "Desviación estándar: 12.025184612123443\n",
            "Rango: 99.0\n",
            "Datos basicos: count    4238.000000\n",
            "mean       75.878716\n",
            "std        12.025185\n",
            "min        44.000000\n",
            "25%        68.000000\n",
            "50%        75.000000\n",
            "75%        83.000000\n",
            "max       143.000000\n",
            "Name: heartRate, dtype: float64\n"
          ]
        }
      ],
      "source": [
        "datos_indicadores(df,'heartRate')"
      ]
    },
    {
      "cell_type": "code",
      "execution_count": null,
      "id": "d2dcca08-9801-4cff-b66a-0e3e14a4a8d7",
      "metadata": {
        "id": "d2dcca08-9801-4cff-b66a-0e3e14a4a8d7",
        "outputId": "5f805d6f-cef6-48a4-f15c-f74137566269"
      },
      "outputs": [
        {
          "data": {
            "image/png": "[encoded data removed]",
            "text/plain": [
              "<Figure size 640x480 with 1 Axes>"
            ]
          },
          "metadata": {},
          "output_type": "display_data"
        }
      ],
      "source": [
        "# Crear el boxplot para comparar las edades del grafico\n",
        "sns.boxplot(y='heartRate', data=df)\n",
        "\n",
        "# Personalización opcional\n",
        "plt.title('Box Plot - Rango ritmos cardiacos')\n",
        "plt.xlabel('Ritmo')\n",
        "\n",
        "# Mostrar el boxplot\n",
        "plt.show()"
      ]
    },
    {
      "cell_type": "code",
      "execution_count": null,
      "id": "cbf76fd7-96bd-4bd9-826f-18b8b81f8e7d",
      "metadata": {
        "id": "cbf76fd7-96bd-4bd9-826f-18b8b81f8e7d"
      },
      "outputs": [],
      "source": [
        "\"\"\"\n",
        "Acá tenemos un dato alarmante, pero no es complicado de solucionar, los casos atipicos señalan que hay personas que tienen el DOBLE de casos de ritmo\n",
        "cardiaco por sobre la media (75), de taquicardia (alto indice de latidos) y de bradicardia (bajo indice de latidos), estos casos dan indicios a situaciones\n",
        "anómalas, pero, para evitar confusiones, se eliminarán estos casos atipicos.\n",
        "\"\"\""
      ]
    },
    {
      "cell_type": "code",
      "execution_count": null,
      "id": "96680263-b59f-43fd-8780-7dbc72b586ce",
      "metadata": {
        "id": "96680263-b59f-43fd-8780-7dbc72b586ce",
        "outputId": "514df659-2ea7-4388-fa86-e37ec8589dfa"
      },
      "outputs": [
        {
          "name": "stdout",
          "output_type": "stream",
          "text": [
            "Estos son los datos indicadores de tu columna:\n",
            "Media: 8.941481831052384\n",
            "Mediana: 0.0\n",
            "Moda: [0.]\n",
            "Desviación estándar: 11.902398767103985\n",
            "Rango: 70.0\n",
            "Datos basicos: count    4238.000000\n",
            "mean        8.941482\n",
            "std        11.902399\n",
            "min         0.000000\n",
            "25%         0.000000\n",
            "50%         0.000000\n",
            "75%        20.000000\n",
            "max        70.000000\n",
            "Name: cigsPerDay, dtype: float64\n"
          ]
        }
      ],
      "source": [
        "datos_indicadores(df,'cigsPerDay')"
      ]
    },
    {
      "cell_type": "code",
      "execution_count": null,
      "id": "2a44b7b0-8740-4496-9e2b-9d5ecd1d1a47",
      "metadata": {
        "id": "2a44b7b0-8740-4496-9e2b-9d5ecd1d1a47",
        "outputId": "a5da7b4f-604c-4d36-d4fd-0cc5f27e9721"
      },
      "outputs": [
        {
          "data": {
            "image/png": "[encoded data removed]",
            "text/plain": [
              "<Figure size 640x480 with 1 Axes>"
            ]
          },
          "metadata": {},
          "output_type": "display_data"
        }
      ],
      "source": [
        "#cigsPerDay\n",
        "# Crear el boxplot para comparar las edades del grafico\n",
        "sns.boxplot(y='cigsPerDay', data=df)\n",
        "\n",
        "# Personalización opcional\n",
        "plt.title('Box Plot - Cigarros por dia')\n",
        "plt.xlabel('cigarros')\n",
        "\n",
        "# Mostrar el boxplot\n",
        "plt.show()"
      ]
    },
    {
      "cell_type": "code",
      "execution_count": null,
      "id": "7b01e1b5-be07-4c0a-9dbd-f07021d72af4",
      "metadata": {
        "id": "7b01e1b5-be07-4c0a-9dbd-f07021d72af4"
      },
      "outputs": [],
      "source": [
        "\"\"\"\n",
        "Aca podemos notar una media de 8 cigarros por persona, en promedio es una cajetilla, lo que es alarmante es la creciente cantidad de personas que fuman\n",
        "hasta 2 cajetillas, ya que el grafico de bigote señala posibles maximos de situaciones. Además, tambien los casos que estan afuera del grafico de bigote, representan casos severos de\n",
        "addiccion. Esto puede ser imposible, o un error de tipeo, u otros, pero, para evitar daños en el grafico y analisis de nuestra DF, vamos a posteriormente eliminarlos.\n",
        "\"\"\""
      ]
    },
    {
      "cell_type": "markdown",
      "id": "328e8ce2-0efb-4d5d-a52c-f110269a1e80",
      "metadata": {
        "id": "328e8ce2-0efb-4d5d-a52c-f110269a1e80"
      },
      "source": [
        "3. Elimina los datos atípicos del dataset. Para las siguientes preguntas, considera el dataset \"limpio\"\n"
      ]
    },
    {
      "cell_type": "code",
      "execution_count": null,
      "id": "aa63bdac-79d2-49d5-bc01-c99f486bac73",
      "metadata": {
        "id": "aa63bdac-79d2-49d5-bc01-c99f486bac73"
      },
      "outputs": [],
      "source": [
        "##vamos a limpiar todo el DF, pero para no tener complicaciones con los datos, es recomendable ir columna por columna, de la misma manera que lo\n",
        "#hicimos con el relleno de los NA en las columnas. #Lo bueno es que esto se entrega en una copia, asi que no se verá afectado el DF original.\n",
        "def eliminar_outliers(df, columna):\n",
        "    # Calcular los cuartiles\n",
        "    Q1 = df[columna].quantile(0.25)\n",
        "    Q3 = df[columna].quantile(0.75)\n",
        "\n",
        "    # Calcular el rango intercuartílico (IQR)\n",
        "    IQR = Q3 - Q1\n",
        "\n",
        "    # Definir los límites para los valores atípicos\n",
        "    limite_inferior = Q1 - 1.5 * IQR\n",
        "    limite_superior = Q3 + 1.5 * IQR\n",
        "\n",
        "    # Filtrar los datos para eliminar los outliers\n",
        "    df_filtrado = df[(df[columna] >= limite_inferior) & (df[columna] <= limite_superior)]\n",
        "\n",
        "    return df_filtrado"
      ]
    },
    {
      "cell_type": "code",
      "execution_count": null,
      "id": "e6cc4dbd-92d0-43cf-a707-4019d5a790a7",
      "metadata": {
        "id": "e6cc4dbd-92d0-43cf-a707-4019d5a790a7"
      },
      "outputs": [],
      "source": [
        "\"\"\"\n",
        "Seran 7 las columnas que se verán afectadas por esta filtracion, de preferencia son aquellas que tienen numeros cuantitativos discretos, no aquellas\n",
        "que estan en codigo o que son binarias o que tienen un booleano, vale decir, las \"int64\" quedan fuera.\n",
        "\"\"\""
      ]
    },
    {
      "cell_type": "code",
      "execution_count": null,
      "id": "d5a578a6-9f0c-4637-b0b0-b82099f96984",
      "metadata": {
        "id": "d5a578a6-9f0c-4637-b0b0-b82099f96984",
        "outputId": "77d452ea-e3d8-4f6c-9b90-d44f6e008925"
      },
      "outputs": [
        {
          "name": "stdout",
          "output_type": "stream",
          "text": [
            "<class 'pandas.core.frame.DataFrame'>\n",
            "RangeIndex: 4238 entries, 0 to 4237\n",
            "Data columns (total 16 columns):\n",
            " #   Column           Non-Null Count  Dtype  \n",
            "---  ------           --------------  -----  \n",
            " 0   sex              4238 non-null   object \n",
            " 1   age              4238 non-null   int64  \n",
            " 2   education        4238 non-null   float64\n",
            " 3   currentSmoker    4238 non-null   object \n",
            " 4   cigsPerDay       4238 non-null   float64\n",
            " 5   BPMeds           4238 non-null   float64\n",
            " 6   prevalentStroke  4238 non-null   int64  \n",
            " 7   prevalentHyp     4238 non-null   int64  \n",
            " 8   diabetes         4238 non-null   int64  \n",
            " 9   totChol          4238 non-null   float64\n",
            " 10  sysBP            4238 non-null   float64\n",
            " 11  diaBP            4238 non-null   float64\n",
            " 12  BMI              4238 non-null   float64\n",
            " 13  heartRate        4238 non-null   float64\n",
            " 14  glucose          4238 non-null   float64\n",
            " 15  TenYearCHD       4238 non-null   int64  \n",
            "dtypes: float64(9), int64(5), object(2)\n",
            "memory usage: 529.9+ KB\n"
          ]
        }
      ],
      "source": [
        "df.info()"
      ]
    },
    {
      "cell_type": "code",
      "execution_count": null,
      "id": "f033b173-e37a-4f7b-b6b8-88df9646d819",
      "metadata": {
        "id": "f033b173-e37a-4f7b-b6b8-88df9646d819",
        "outputId": "6e3fec93-bb3b-4bb7-b3a8-611d69676490"
      },
      "outputs": [
        {
          "name": "stdout",
          "output_type": "stream",
          "text": [
            "\n",
            "Número de filas originales: 4238\n",
            "Número de filas después de eliminar outliers: 3630\n"
          ]
        }
      ],
      "source": [
        "# Aplicar la eliminación de outliers secuencialmente\n",
        "df_filtrado = df.copy()  # Copia del DataFrame original\n",
        "\n",
        "columnas = ['cigsPerDay', 'totChol', 'sysBP', 'diaBP', 'BMI', 'heartRate', 'glucose']\n",
        "\n",
        "for columna in columnas:\n",
        "    df_filtrado = eliminar_outliers(df_filtrado, columna)\n",
        "\n",
        "print(f\"\\nNúmero de filas originales: {len(df)}\")\n",
        "print(f\"Número de filas después de eliminar outliers: {len(df_filtrado)}\")"
      ]
    },
    {
      "cell_type": "code",
      "execution_count": null,
      "id": "67b6f3e2-978e-45b6-80a4-8409f6e4c1ae",
      "metadata": {
        "id": "67b6f3e2-978e-45b6-80a4-8409f6e4c1ae"
      },
      "outputs": [],
      "source": [
        "\"\"\"\n",
        "Ahí estamos con lo solicitado, este nuevo df, df_filtrado, será el que utilizaremos para los proximos ejercicios solicitados, como por ejemplo,\n",
        "el de correlacion.\n",
        "\"\"\""
      ]
    },
    {
      "cell_type": "markdown",
      "id": "52a003b0-d753-4a28-a457-134e71ebf747",
      "metadata": {
        "id": "52a003b0-d753-4a28-a457-134e71ebf747"
      },
      "source": [
        "4. ¿Qué variables cuantitativas presentan mayor correlación?\n"
      ]
    },
    {
      "cell_type": "code",
      "execution_count": null,
      "id": "435c5e39-c819-4398-ab59-7397b6db9f48",
      "metadata": {
        "id": "435c5e39-c819-4398-ab59-7397b6db9f48"
      },
      "outputs": [],
      "source": [
        "##para hacer una correlacion, debemos primero convertir en numeros todas las columnas, son importantes para las proximas preguntas\n",
        "#asi que transformaremos en INT las columnas que estan en STRINGS, que en este caso serian, \"SEX\" y \"CurrentSmoker\"\n",
        "\n",
        "replace_corr = {'M':1, 'F':0, 'No':0, 'Yes':1}\n",
        "\n",
        "df_filtrado['sex'] = df_filtrado['sex'].replace(replace_corr)"
      ]
    },
    {
      "cell_type": "code",
      "execution_count": null,
      "id": "3621ab3c-9707-42e8-b888-7c19427b980b",
      "metadata": {
        "id": "3621ab3c-9707-42e8-b888-7c19427b980b"
      },
      "outputs": [],
      "source": [
        "df_filtrado['currentSmoker'] = df_filtrado['currentSmoker'].replace(replace_corr)"
      ]
    },
    {
      "cell_type": "code",
      "execution_count": null,
      "id": "942e6e79-e516-44f0-9e72-a15dfd769e8f",
      "metadata": {
        "id": "942e6e79-e516-44f0-9e72-a15dfd769e8f"
      },
      "outputs": [],
      "source": [
        "correlation_matrix = df_filtrado.corr()"
      ]
    },
    {
      "cell_type": "code",
      "execution_count": null,
      "id": "b48fcd8a-6440-4206-afac-25fa0e6176e8",
      "metadata": {
        "id": "b48fcd8a-6440-4206-afac-25fa0e6176e8",
        "outputId": "05fc3c3b-c5e4-4f2b-fbca-36a735258bfe"
      },
      "outputs": [
        {
          "data": {
            "image/png": "[encoded data removed]",
            "text/plain": [
              "<Figure size 1000x800 with 2 Axes>"
            ]
          },
          "metadata": {},
          "output_type": "display_data"
        }
      ],
      "source": [
        "##Crearemos una tabla de correlacion para que nos de una mejor idea de lo solicitado\n",
        "# Crear un heatmap para visualizar la matriz de correlación\n",
        "plt.figure(figsize=(10, 8))\n",
        "sns.heatmap(correlation_matrix, annot=True, cmap='coolwarm', fmt='.2f', vmin=-1, vmax=1)\n",
        "plt.title('Matriz de Correlación')\n",
        "plt.show()"
      ]
    },
    {
      "cell_type": "code",
      "execution_count": null,
      "id": "7d10f94d-55ff-44ec-88ec-e891972f6993",
      "metadata": {
        "id": "7d10f94d-55ff-44ec-88ec-e891972f6993"
      },
      "outputs": [],
      "source": [
        "\"\"\"\n",
        "Los valores señalados en la matriz de correlacion no denotan tanta relacion en el grafico, por lo que se puede notar, es bien parejo\n",
        "el resultado otorgado. Hay relaciones directas, sin embargo son su opuesto, hay relaciones inversas, que no tienen ninguna relacion en algunos casos,\n",
        "creo que, para un mejor analisis, seria mejor señalar resultados haciendo comparaciones que involucren 2 o mas variables para tener un mejor entendimiento de las variables y obtener mejores conclusiones.\n",
        "\"\"\""
      ]
    },
    {
      "cell_type": "markdown",
      "id": "c5e7fc2f-38bf-4dc7-9623-4ffcae28515d",
      "metadata": {
        "id": "c5e7fc2f-38bf-4dc7-9623-4ffcae28515d"
      },
      "source": [
        "5. Si de este dataset se escoge un paciente al azar, ¿cuál es la probabilidad de que sea hombre,\n",
        "si se sabe que pertenece al mayor cuartil de la variable correspondiente al índice de masa corporal?\n"
      ]
    },
    {
      "cell_type": "code",
      "execution_count": null,
      "id": "9d771c3c-0e96-4976-9050-5d2a6ea31a84",
      "metadata": {
        "id": "9d771c3c-0e96-4976-9050-5d2a6ea31a84",
        "outputId": "970f752e-adca-4751-db8c-8d3e62000a8f"
      },
      "outputs": [
        {
          "name": "stdout",
          "output_type": "stream",
          "text": [
            "La probabilidad de que un paciente sea hombre, dado que pertenece al mayor cuartil del IMC, es del 52.8052805280528%\n"
          ]
        }
      ],
      "source": [
        "\"\"\"\n",
        "Para esto necesitamos ir por pasos para llegar al conteo del resultado final, ire señalandolo por partes.\n",
        "BODY MASS INDEX (indice de masa corporal en ingles)\n",
        "\"\"\"\n",
        "# Primero, a calcular el cuartil superior del IMC\n",
        "cuartil_superior = df_filtrado['BMI'].quantile(0.75)\n",
        "\n",
        "# Luego, vamos a filtrar pacientes en el mayor cuartil del IMC\n",
        "pacientes_mayor_cuartil = df_filtrado[df_filtrado['BMI'] >= cuartil_superior]\n",
        "\n",
        "# Necesitamos el total de pacientes en el mayor cuartil\n",
        "total_mayor_cuartil = len(pacientes_mayor_cuartil)\n",
        "\n",
        "# ahora hay que contar el número de hombres en el mayor cuartil\n",
        "hombres_mayor_cuartil = pacientes_mayor_cuartil[pacientes_mayor_cuartil['sex'] == 1]\n",
        "num_hombres_mayor_cuartil = len(hombres_mayor_cuartil)\n",
        "\n",
        "# Por ultimo, vamos a calcular la probabilidad\n",
        "probabilidad = num_hombres_mayor_cuartil / total_mayor_cuartil * 100\n",
        "\n",
        "print(f\"La probabilidad de que un paciente sea hombre, dado que pertenece al mayor cuartil del IMC, es del {probabilidad}%\")"
      ]
    },
    {
      "cell_type": "code",
      "execution_count": null,
      "id": "62002b9f-bb94-4ec0-972e-153c599a225c",
      "metadata": {
        "id": "62002b9f-bb94-4ec0-972e-153c599a225c"
      },
      "outputs": [],
      "source": [
        "\"\"\"\n",
        "Considerando todas las condiciones señaladas y utilizando el DF limpio, la probabilidad de toparnos con la situacion señalada es de un 52%\n",
        "\"\"\""
      ]
    },
    {
      "cell_type": "markdown",
      "id": "4f626a0d-3d13-4e57-846f-5ac1135487ca",
      "metadata": {
        "id": "4f626a0d-3d13-4e57-846f-5ac1135487ca"
      },
      "source": [
        "6. ¿Es razonable aﬁrmar que, para una persona cualquiera (no necesariamente dentro del dataset), su ritmo cardiaco promedio es 75? Explica y justiﬁca.\n"
      ]
    },
    {
      "cell_type": "code",
      "execution_count": null,
      "id": "873fd72b-3318-4bd6-a9f7-544e354b49e6",
      "metadata": {
        "id": "873fd72b-3318-4bd6-a9f7-544e354b49e6",
        "outputId": "bc68e430-e7da-472f-a84f-9a881f592c26"
      },
      "outputs": [
        {
          "data": {
            "text/plain": [
              "74.64269972451791"
            ]
          },
          "execution_count": 28,
          "metadata": {},
          "output_type": "execute_result"
        }
      ],
      "source": [
        "##Puede ser, depende de la cantidad de datos que tenga nuestro DF, por ejemplo, en el caso no dentro del dataset, con google de referencia serian 60 a 100\n",
        "##pulsaciones por minuto, lo que nos da un promedio de 80 aproximadamente, se podria decir que si considerando que la poblacion mundial es como referencia.\n",
        "##Ahora bien, en nuestro DF (el que esta limpio) los resultados son distintos:\n",
        "\n",
        "df_filtrado['heartRate'].mean()"
      ]
    },
    {
      "cell_type": "code",
      "execution_count": null,
      "id": "7eb91bb6-c903-4a6c-b314-7a6b129cc576",
      "metadata": {
        "id": "7eb91bb6-c903-4a6c-b314-7a6b129cc576",
        "outputId": "630d804a-2d1f-4af6-cdca-2949c69920dc"
      },
      "outputs": [
        {
          "data": {
            "text/plain": [
              "10.809984637091235"
            ]
          },
          "execution_count": 29,
          "metadata": {},
          "output_type": "execute_result"
        }
      ],
      "source": [
        "df_filtrado['heartRate'].std()\n",
        "\n",
        "#Aqui se logra notar que se acerca a la aseveracion señalada, pero anteriormente notamos diferencias considerables que podrian modificar el resultado final\n",
        "#ya que los valores atipicos tienden a generar variaciones significativas en el resultado."
      ]
    },
    {
      "cell_type": "code",
      "execution_count": null,
      "id": "f699d16a-3656-4b59-b15c-ce444d085a19",
      "metadata": {
        "id": "f699d16a-3656-4b59-b15c-ce444d085a19"
      },
      "outputs": [],
      "source": [
        "\"\"\"\n",
        "Esto quiere decir, que si nuestro promedio es 74, con su desviacion puede ser 84 y 64 para estar dentro de un promedio estable.\n",
        "\"\"\""
      ]
    },
    {
      "cell_type": "markdown",
      "id": "88a20e13-9273-4e0c-b3fb-d55623e183bc",
      "metadata": {
        "id": "88a20e13-9273-4e0c-b3fb-d55623e183bc"
      },
      "source": [
        "7. Ahora con graficos hechos y limpios, podemos hacer las siguientes aseveraciones:\n",
        " - Ser hombre, ¿inﬂuye en el promedio de cigarrillos consumidos por día, dentro de los pacientes fumadores?\n"
      ]
    },
    {
      "cell_type": "code",
      "execution_count": null,
      "id": "77a4f09c-54f2-4595-9593-99fb2e2e33f9",
      "metadata": {
        "id": "77a4f09c-54f2-4595-9593-99fb2e2e33f9",
        "outputId": "bc01b9cc-2cfc-4db6-8942-c75de0b873e0"
      },
      "outputs": [
        {
          "name": "stdout",
          "output_type": "stream",
          "text": [
            "Estadístico t: 15.74\n",
            "P-valor: 0.0000\n",
            "Rechazamos la hipótesis nula: Hay una diferencia significativa en el promedio de cigarrillos consumidos por día entre hombres y mujeres.\n"
          ]
        }
      ],
      "source": [
        "###Para obtener los resultados señalados en esta pregunta se debe hacer de la siguiente manera:\n",
        "# Filtrar solo a los pacientes fumadores\n",
        "fumadores = df_filtrado[df_filtrado['currentSmoker'] == 1]\n",
        "\n",
        "# Separar los datos por género\n",
        "hombres = fumadores[fumadores['sex'] == 1]['cigsPerDay']\n",
        "mujeres = fumadores[fumadores['sex'] == 0]['cigsPerDay']\n",
        "\n",
        "# Realizar la prueba t para dos muestras independientes\n",
        "t_stat, p_value = stats.ttest_ind(hombres, mujeres)\n",
        "\n",
        "print(f\"Estadístico t: {t_stat:.2f}\")\n",
        "print(f\"P-valor: {p_value:.4f}\")\n",
        "\n",
        "# Evaluar el p-valor\n",
        "alpha = 0.05\n",
        "if p_value < alpha:\n",
        "    print(\"Rechazamos la hipótesis nula: Hay una diferencia significativa en el promedio de cigarrillos consumidos por día entre hombres y mujeres.\")\n",
        "else:\n",
        "    print(\"No rechazamos la hipótesis nula: No hay evidencia suficiente para decir que hay una diferencia significativa en el promedio de cigarrillos consumidos por día entre hombres y mujeres.\")\n"
      ]
    },
    {
      "cell_type": "code",
      "execution_count": null,
      "id": "7a5a71f3-3220-4fae-9a9f-c247cec3752a",
      "metadata": {
        "id": "7a5a71f3-3220-4fae-9a9f-c247cec3752a"
      },
      "outputs": [],
      "source": [
        "\"\"\"\n",
        "Los casos de esta situacion dan una respuesta considerable, no solo ser hombre es una respuesta contundente para poder decir que fuman mas,\n",
        "tenemos mas variables que utilizar en comparacion para dar una respuesta, por ejemplo, quizas el nivel de estudio o la edad son variables que hacen la\n",
        "diferencia mas allá del sexo del paciente.\n",
        "\"\"\""
      ]
    },
    {
      "cell_type": "markdown",
      "id": "c8af8372-0024-40bb-9689-404497e806e6",
      "metadata": {
        "id": "c8af8372-0024-40bb-9689-404497e806e6"
      },
      "source": [
        "8. Construye un modelo de regresión lineal que permita relacionar 6 variables del dataset con el índice de masa corporal.\n",
        "(Debes incluir al menos dos variables cualitativas). Evalúa tu modelo y explica.\n"
      ]
    },
    {
      "cell_type": "code",
      "execution_count": null,
      "id": "7be50e4f-81cf-4bea-8a04-eebf05333aba",
      "metadata": {
        "id": "7be50e4f-81cf-4bea-8a04-eebf05333aba"
      },
      "outputs": [],
      "source": [
        "# Paso 1: Definir variables predictoras (X) y variable de respuesta (y)\n",
        "X = df_filtrado[['heartRate', 'totChol', 'glucose', 'sysBP', 'diabetes', 'prevalentHyp']]\n",
        "y = df_filtrado['BMI']"
      ]
    },
    {
      "cell_type": "code",
      "execution_count": null,
      "id": "9c17f839-c484-4f41-a895-c39394d6013d",
      "metadata": {
        "id": "9c17f839-c484-4f41-a895-c39394d6013d"
      },
      "outputs": [],
      "source": [
        "# Codificar las variables cualitativas 'prevalentHyp' y 'diabetes'\n",
        "X_encoded = pd.get_dummies(X, columns=['prevalentHyp', 'diabetes'], drop_first=True)"
      ]
    },
    {
      "cell_type": "code",
      "execution_count": null,
      "id": "eb9fa687-833a-481a-be9b-be23ff2e9484",
      "metadata": {
        "id": "eb9fa687-833a-481a-be9b-be23ff2e9484"
      },
      "outputs": [],
      "source": [
        "# Agregar una constante (intercepto) a las variables predictoras\n",
        "X_encoded = sm.add_constant(X_encoded)"
      ]
    },
    {
      "cell_type": "code",
      "execution_count": null,
      "id": "9d3736c6-9b5a-4399-90cd-0e539a1ed2f8",
      "metadata": {
        "id": "9d3736c6-9b5a-4399-90cd-0e539a1ed2f8"
      },
      "outputs": [],
      "source": [
        "# Convertir variables a tipo numérico\n",
        "X = X.astype(float)\n",
        "y = y.astype(float)"
      ]
    },
    {
      "cell_type": "code",
      "execution_count": null,
      "id": "0c89bcaa-3634-4547-815a-e0d4fae900ae",
      "metadata": {
        "id": "0c89bcaa-3634-4547-815a-e0d4fae900ae",
        "outputId": "38051615-976e-4540-953f-134a5acbbf19"
      },
      "outputs": [
        {
          "name": "stdout",
          "output_type": "stream",
          "text": [
            "heartRate           float64\n",
            "totChol             float64\n",
            "glucose             float64\n",
            "sysBP               float64\n",
            "diabetes_1.0           bool\n",
            "prevalentHyp_1.0       bool\n",
            "dtype: object\n"
          ]
        }
      ],
      "source": [
        "# Codificar las variables cualitativas 'diabetes' y 'sex'\n",
        "X_encoded = pd.get_dummies(X, columns=['diabetes', 'prevalentHyp'], drop_first=True)\n",
        "\n",
        "# Verificar los tipos de datos después de la codificación\n",
        "print(X_encoded.dtypes)"
      ]
    },
    {
      "cell_type": "code",
      "execution_count": null,
      "id": "5e1c470f-9f72-4480-a1e9-33b08add5eae",
      "metadata": {
        "id": "5e1c470f-9f72-4480-a1e9-33b08add5eae"
      },
      "outputs": [],
      "source": [
        "# Convertir variables booleanas a enteros\n",
        "X_encoded = X_encoded.astype(int)"
      ]
    },
    {
      "cell_type": "code",
      "execution_count": null,
      "id": "7b7c0963-515c-4138-bc33-d045e3a10bb9",
      "metadata": {
        "id": "7b7c0963-515c-4138-bc33-d045e3a10bb9"
      },
      "outputs": [],
      "source": [
        "# Convertir variable dependiente a tipo numérico\n",
        "y = y.astype(float)"
      ]
    },
    {
      "cell_type": "code",
      "execution_count": null,
      "id": "7a7c86ab-8bf9-48b7-a95a-9ae46d1f38cf",
      "metadata": {
        "id": "7a7c86ab-8bf9-48b7-a95a-9ae46d1f38cf",
        "outputId": "d21bbbc7-83be-4a7c-aadd-07c3d4549a22"
      },
      "outputs": [
        {
          "name": "stdout",
          "output_type": "stream",
          "text": [
            "                                 OLS Regression Results                                \n",
            "=======================================================================================\n",
            "Dep. Variable:                    BMI   R-squared (uncentered):                   0.981\n",
            "Model:                            OLS   Adj. R-squared (uncentered):              0.981\n",
            "Method:                 Least Squares   F-statistic:                          3.133e+04\n",
            "Date:                Wed, 11 Sep 2024   Prob (F-statistic):                        0.00\n",
            "Time:                        09:48:03   Log-Likelihood:                         -9721.9\n",
            "No. Observations:                3630   AIC:                                  1.946e+04\n",
            "Df Residuals:                    3624   BIC:                                  1.949e+04\n",
            "Df Model:                           6                                                  \n",
            "Covariance Type:            nonrobust                                                  \n",
            "====================================================================================\n",
            "                       coef    std err          t      P>|t|      [0.025      0.975]\n",
            "------------------------------------------------------------------------------------\n",
            "heartRate            0.0437      0.005      8.639      0.000       0.034       0.054\n",
            "totChol              0.0190      0.001     13.415      0.000       0.016       0.022\n",
            "glucose              0.0818      0.005     16.000      0.000       0.072       0.092\n",
            "sysBP                0.0888      0.004     23.388      0.000       0.081       0.096\n",
            "diabetes_1.0        -0.8984      0.812     -1.107      0.268      -2.490       0.693\n",
            "prevalentHyp_1.0    -0.8158      0.165     -4.945      0.000      -1.139      -0.492\n",
            "==============================================================================\n",
            "Omnibus:                       19.435   Durbin-Watson:                   1.982\n",
            "Prob(Omnibus):                  0.000   Jarque-Bera (JB):               19.707\n",
            "Skew:                           0.179   Prob(JB):                     5.26e-05\n",
            "Kurtosis:                       2.955   Cond. No.                     4.02e+03\n",
            "==============================================================================\n",
            "\n",
            "Notes:\n",
            "[1] R² is computed without centering (uncentered) since the model does not contain a constant.\n",
            "[2] Standard Errors assume that the covariance matrix of the errors is correctly specified.\n",
            "[3] The condition number is large, 4.02e+03. This might indicate that there are\n",
            "strong multicollinearity or other numerical problems.\n",
            "Mean Squared Error (MSE): 12.41\n",
            "Coeficiente de Determinación (R²): -0.04\n"
          ]
        }
      ],
      "source": [
        "# Crear y ajustar el modelo de regresión lineal\n",
        "model = sm.OLS(y, X_encoded).fit()\n",
        "\n",
        "# Obtener resultados del modelo\n",
        "results = model.summary()\n",
        "print(results)\n",
        "\n",
        "# Realizar predicciones\n",
        "predictions = model.predict(X_encoded)\n",
        "\n",
        "# Calcular el Error Cuadrático Medio (MSE)\n",
        "from sklearn.metrics import mean_squared_error\n",
        "mse = mean_squared_error(y, predictions)\n",
        "\n",
        "# Obtener el valor R² del modelo\n",
        "from sklearn.metrics import r2_score\n",
        "r2 = r2_score(y, predictions)\n",
        "\n",
        "print(f\"Mean Squared Error (MSE): {mse:.2f}\")\n",
        "print(f\"Coeficiente de Determinación (R²): {r2:.2f}\")"
      ]
    },
    {
      "cell_type": "code",
      "execution_count": null,
      "id": "fff3a8b0-1fe4-4aa8-9527-50d7c43bc37a",
      "metadata": {
        "id": "fff3a8b0-1fe4-4aa8-9527-50d7c43bc37a"
      },
      "outputs": [],
      "source": [
        "\"\"\"\n",
        "PESE A QUE LOS RESULTADOS SON NEGATIVOS DEJAREMOS LOS RESULTADOS; un R2 negativo implica que los valores a los cuales\n",
        "se está haciendo comparacion no son concluyentes, pero los dejare ahí de todas formas, ya que cuenta como parte de un analisis.\n",
        "\n",
        "Una situacion interesante que ocurrió y por lo mismo en el paso a paso voy a explicarlo lentamente, es que tengo columnas que estan en la variable BOOLEANA\n",
        "ya que a eso se transforman en su primera parte, la solucion para obtener resultados claros fue transformarles en variables numericas\n",
        "porque el modelo de regresion solicita numeros (float o INT) para poder trabajar, y el booleano funciona como texto, aunque sean 0 y 1.\n",
        "\n",
        "Es importante recalcar que la negatividad del r2 no esta relacionada a todo el trabajo, sino que la relacion entre diabetes y IMC, de acuerdo al modelo\n",
        "NO TIENEN RELACION ALGUNA, pero los demas valores si tienen inferencia en los resultados.\n",
        "\"\"\""
      ]
    },
    {
      "cell_type": "markdown",
      "id": "db1adee3-2e0b-4338-b920-ec4f525ef1ae",
      "metadata": {
        "id": "db1adee3-2e0b-4338-b920-ec4f525ef1ae"
      },
      "source": [
        "9. Construye un modelo de regresión logística para predecir el riesgo de sufrir una enfermedad coronaria en los próximos diez años,\n",
        "a partir de las variables descritas. Veriﬁca el balanceo de datos y evalúa tu modelo.\n"
      ]
    },
    {
      "cell_type": "code",
      "execution_count": null,
      "id": "0fa13e1a-f6ae-42a4-9429-014dfca4f7f2",
      "metadata": {
        "id": "0fa13e1a-f6ae-42a4-9429-014dfca4f7f2",
        "outputId": "175873ca-4e40-4413-9052-cf1bbbede1c7"
      },
      "outputs": [
        {
          "name": "stdout",
          "output_type": "stream",
          "text": [
            "Precisión del modelo: 0.8672176308539945\n",
            "Matriz de Confusión:\n",
            "[[3148    0]\n",
            " [ 482    0]]\n",
            "Informe de Clasificación:\n",
            "              precision    recall  f1-score   support\n",
            "\n",
            "           0       0.87      1.00      0.93      3148\n",
            "           1       0.00      0.00      0.00       482\n",
            "\n",
            "    accuracy                           0.87      3630\n",
            "   macro avg       0.43      0.50      0.46      3630\n",
            "weighted avg       0.75      0.87      0.81      3630\n",
            "\n",
            "Precision: 0.75\n",
            "Recall: 0.87\n",
            "F1 Score: 0.81\n"
          ]
        },
        {
          "name": "stderr",
          "output_type": "stream",
          "text": [
            "C:\\Users\\jeannette carreno\\AppData\\Local\\anaconda3\\Lib\\site-packages\\sklearn\\metrics\\_classification.py:1344: UndefinedMetricWarning: Precision and F-score are ill-defined and being set to 0.0 in labels with no predicted samples. Use `zero_division` parameter to control this behavior.\n",
            "  _warn_prf(average, modifier, msg_start, len(result))\n",
            "C:\\Users\\jeannette carreno\\AppData\\Local\\anaconda3\\Lib\\site-packages\\sklearn\\metrics\\_classification.py:1344: UndefinedMetricWarning: Precision and F-score are ill-defined and being set to 0.0 in labels with no predicted samples. Use `zero_division` parameter to control this behavior.\n",
            "  _warn_prf(average, modifier, msg_start, len(result))\n",
            "C:\\Users\\jeannette carreno\\AppData\\Local\\anaconda3\\Lib\\site-packages\\sklearn\\metrics\\_classification.py:1344: UndefinedMetricWarning: Precision and F-score are ill-defined and being set to 0.0 in labels with no predicted samples. Use `zero_division` parameter to control this behavior.\n",
            "  _warn_prf(average, modifier, msg_start, len(result))\n"
          ]
        }
      ],
      "source": [
        "X = df_filtrado[['heartRate', 'totChol', 'glucose', 'sysBP', 'diabetes', 'prevalentHyp']]\n",
        "y = df_filtrado['TenYearCHD']\n",
        "\n",
        "# Crea una instancia del modelo de regresión logística\n",
        "model = LogisticRegression()\n",
        "\n",
        "# Ajusta el modelo a los datos\n",
        "model.fit(X, y)\n",
        "\n",
        "# Realiza predicciones con el modelo\n",
        "y_pred = model.predict(X)\n",
        "\n",
        "# Calcula la precisión del modelo\n",
        "accuracy = accuracy_score(y, y_pred)\n",
        "print(f'Precisión del modelo: {accuracy}')\n",
        "\n",
        "# Calcula y muestra la matriz de confusión\n",
        "confusion = confusion_matrix(y, y_pred)\n",
        "print('Matriz de Confusión:')\n",
        "print(confusion)\n",
        "\n",
        "# Genera un informe de clasificación que incluye precisión, recuperación y F1-score\n",
        "report = classification_report(y, y_pred)\n",
        "print('Informe de Clasificación:')\n",
        "print(report)\n",
        "\n",
        "from sklearn.metrics import precision_score, recall_score, f1_score\n",
        "\n",
        "precision = precision_score(y, y_pred, average='weighted', zero_division=0)\n",
        "recall = recall_score(y, y_pred, average='weighted', zero_division=0)\n",
        "f1 = f1_score(y, y_pred, average='weighted', zero_division=0)\n",
        "\n",
        "print(f\"Precision: {precision:.2f}\")\n",
        "print(f\"Recall: {recall:.2f}\")\n",
        "print(f\"F1 Score: {f1:.2f}\")"
      ]
    },
    {
      "cell_type": "code",
      "execution_count": null,
      "id": "f5911662-358f-4b82-ba9c-e13b7588d2ff",
      "metadata": {
        "id": "f5911662-358f-4b82-ba9c-e13b7588d2ff",
        "outputId": "ad364f36-97f1-4622-c36c-4a24f43a6388"
      },
      "outputs": [
        {
          "name": "stdout",
          "output_type": "stream",
          "text": [
            "AUC-ROC: 0.6478670512002616\n",
            "AUC-PR: 0.21348282235132376\n"
          ]
        },
        {
          "data": {
            "image/png": "[encoded data removed]",
            "text/plain": [
              "<Figure size 800x600 with 1 Axes>"
            ]
          },
          "metadata": {},
          "output_type": "display_data"
        },
        {
          "data": {
            "image/png": "[encoded data removed]",
            "text/plain": [
              "<Figure size 800x600 with 1 Axes>"
            ]
          },
          "metadata": {},
          "output_type": "display_data"
        }
      ],
      "source": [
        "# Obtener las probabilidades de predicción\n",
        "y_prob = model.predict_proba(X)[:, 1]\n",
        "\n",
        "# Calcular el AUC-ROC\n",
        "roc_auc = roc_auc_score(y, y_prob)\n",
        "print(f'AUC-ROC: {roc_auc}')\n",
        "\n",
        "# Calcular el AUC-PR\n",
        "prc_auc = average_precision_score(y, y_prob)\n",
        "print(f'AUC-PR: {prc_auc}')\n",
        "\n",
        "# Calcular la curva ROC\n",
        "fpr, tpr, thresholds_roc = roc_curve(y, y_prob)\n",
        "\n",
        "# Calcular la curva PRC\n",
        "precision, recall, thresholds_prc = precision_recall_curve(y, y_prob)\n",
        "\n",
        "# Graficar la curva ROC\n",
        "plt.figure(figsize=(8, 6))\n",
        "plt.plot(fpr, tpr, color='darkorange', lw=2, label='Curva ROC (AUC = %0.2f)' % roc_auc)\n",
        "plt.plot([0, 1], [0, 1], color='navy', lw=2, linestyle='--')\n",
        "plt.xlim([0.0, 1.0])\n",
        "plt.ylim([0.0, 1.05])\n",
        "plt.xlabel('Tasa de Falsos Positivos (FPR)')\n",
        "plt.ylabel('Tasa de Verdaderos Positivos (TPR)')\n",
        "plt.title('Curva ROC')\n",
        "plt.legend(loc='lower right')\n",
        "\n",
        "# Graficar la curva PRC\n",
        "plt.figure(figsize=(8, 6))\n",
        "plt.plot(recall, precision, color='blue', lw=2, label='Curva PRC (AUC = %0.2f)' % prc_auc)\n",
        "plt.xlim([0.0, 1.0])\n",
        "plt.ylim([0.0, 1.05])\n",
        "plt.xlabel('Recall')\n",
        "plt.ylabel('Precision')\n",
        "plt.title('Curva Precision-Recall')\n",
        "plt.legend(loc='lower left')\n",
        "\n",
        "# Mostrar las curvas ROC y PRC\n",
        "plt.show()"
      ]
    },
    {
      "cell_type": "code",
      "execution_count": null,
      "id": "77d0a1c3-3816-4818-b2b9-cb3167a01f92",
      "metadata": {
        "id": "77d0a1c3-3816-4818-b2b9-cb3167a01f92",
        "outputId": "e2a615b3-93f9-4f48-b948-0e8a58b70b7d"
      },
      "outputs": [
        {
          "name": "stdout",
          "output_type": "stream",
          "text": [
            "AUC-ROC sin SMOTE: 0.6478123500661686\n",
            "AUC-PR sin SMOTE: 0.21354747718361095\n",
            "AUC-ROC con SMOTE: 0.64728511021949\n",
            "AUC-PR con SMOTE: 0.21321612461519254\n"
          ]
        }
      ],
      "source": [
        "from sklearn.preprocessing import StandardScaler\n",
        "from imblearn.over_sampling import SMOTE\n",
        "\n",
        "# Variables predictoras y variable dependiente\n",
        "X = df_filtrado[['heartRate', 'totChol', 'glucose', 'sysBP', 'diabetes', 'prevalentHyp']].values\n",
        "y = df_filtrado['TenYearCHD'].values\n",
        "\n",
        "# Estandarizar las características\n",
        "scaler = StandardScaler()\n",
        "X_scaled = scaler.fit_transform(X)\n",
        "\n",
        "# Modelo de Regresión Logística sin SMOTE\n",
        "logistic_regression_model = LogisticRegression(random_state=42)\n",
        "logistic_regression_model.fit(X_scaled, y)\n",
        "\n",
        "# Realizar predicciones en el conjunto de datos sin SMOTE\n",
        "y_pred = logistic_regression_model.predict_proba(X_scaled)[:, 1]\n",
        "\n",
        "# Calcular AUC-ROC sin SMOTE\n",
        "roc_auc = roc_auc_score(y, y_pred)\n",
        "\n",
        "# Calcular AUC-PR sin SMOTE\n",
        "average_precision = average_precision_score(y, y_pred)\n",
        "\n",
        "# Aplicar SMOTE y crear el modelo nuevamente\n",
        "smote = SMOTE(random_state=42)\n",
        "X_resampled, y_resampled = smote.fit_resample(X_scaled, y)\n",
        "\n",
        "# Modelo de Regresión Logística con SMOTE\n",
        "logistic_regression_model_smote = LogisticRegression(random_state=42)\n",
        "logistic_regression_model_smote.fit(X_resampled, y_resampled)\n",
        "\n",
        "# Realizar predicciones en el conjunto de datos con SMOTE\n",
        "y_pred_smote = logistic_regression_model_smote.predict_proba(X_scaled)[:, 1]\n",
        "\n",
        "# Calcular AUC-ROC con SMOTE\n",
        "roc_auc_smote = roc_auc_score(y, y_pred_smote)\n",
        "\n",
        "# Calcular AUC-PR con SMOTE\n",
        "average_precision_smote = average_precision_score(y, y_pred_smote)\n",
        "\n",
        "# Imprimir AUC-ROC y AUC-PR para ambos modelos\n",
        "print(\"AUC-ROC sin SMOTE:\", roc_auc)\n",
        "print(\"AUC-PR sin SMOTE:\", average_precision)\n",
        "print(\"AUC-ROC con SMOTE:\", roc_auc_smote)\n",
        "print(\"AUC-PR con SMOTE:\", average_precision_smote)"
      ]
    },
    {
      "cell_type": "code",
      "execution_count": null,
      "id": "b8206d29-cc6e-482c-a7cc-54c03b34f269",
      "metadata": {
        "id": "b8206d29-cc6e-482c-a7cc-54c03b34f269"
      },
      "outputs": [],
      "source": [
        "\"\"\"\n",
        "ya, ahora que tenemos resultados de estas variables podemos concluir los siguiente: el modelo esta mal implementado pero no en su funcionamiento,\n",
        "sino que en la eleccion de las variables logisticas, ya que no generan una relacion que permita otorgar resultados altamente concluyentes, hablando\n",
        "con numeros especificos, un modelo sin SMOTE con un AUC-ROC de 0,64 señala que es capaz de dicernir de un resultado binomial pero no es excelente, ya que\n",
        "para esto debe acercarce al 1 y no al 0.50. Ahora bien, si ahora tiene SMOTE no hay mayor diferencia, es mas, SE MANTIENE, lo que quiere decir que el\n",
        "SMOTE no hace la diferencia y otro metodo de balance es necesario. El AUC-PR da un 0,2 de acuerdo a los datos señalados en el analisis, esto significa\n",
        "que al sistema le cuesta dicernir entre los positivos de clase.\n",
        "En conclusion, las variables señaladas para hacer la regresion no tienen mucha validez, ya que no estan tan relacionadas en comparacion a variables que\n",
        "si pueden hacer la diferencia.\n",
        "\"\"\""
      ]
    },
    {
      "cell_type": "markdown",
      "id": "3a2c3f55-0b28-40de-bc4a-7da2c627ef7e",
      "metadata": {
        "id": "3a2c3f55-0b28-40de-bc4a-7da2c627ef7e"
      },
      "source": [
        "10. Separa los modelos de regresión anteriores en dos distintos, respectivamente, considerando alguna variable categórica. Compara y concluye."
      ]
    },
    {
      "cell_type": "code",
      "execution_count": null,
      "id": "cc66e7d2-f048-449e-8d2b-e44c9280e03e",
      "metadata": {
        "id": "cc66e7d2-f048-449e-8d2b-e44c9280e03e"
      },
      "outputs": [],
      "source": [
        "##Aqui me demore harto tratando de hacer funcionar el diagrama y esto se debe a que tenia la columna de 'sex' en STR, por lo tanto\n",
        "#me dificultaba seguir avanzando, entonces preferi ir paso a paso"
      ]
    },
    {
      "cell_type": "code",
      "execution_count": null,
      "id": "c5862415-ab4c-43d9-a3bf-867ba25f876f",
      "metadata": {
        "id": "c5862415-ab4c-43d9-a3bf-867ba25f876f"
      },
      "outputs": [],
      "source": [
        "# Supongamos que df_filtrado es tu DataFrame original\n",
        "df_filtrado['sex'] = pd.to_numeric(df_filtrado['sex'], errors='coerce')\n",
        "df_male = df_filtrado[df_filtrado['sex'] == 1]\n",
        "df_female = df_filtrado[df_filtrado['sex'] == 0]"
      ]
    },
    {
      "cell_type": "code",
      "execution_count": null,
      "id": "3569adb4-39a8-4646-b9f1-083e8066090c",
      "metadata": {
        "id": "3569adb4-39a8-4646-b9f1-083e8066090c"
      },
      "outputs": [],
      "source": [
        "# Definir variables predictoras y de respuesta para hombres\n",
        "X_male = df_male[['heartRate', 'totChol', 'glucose', 'sysBP', 'diabetes', 'prevalentHyp']]\n",
        "y_male = df_male['BMI']\n",
        "\n",
        "# Definir variables predictoras y de respuesta para mujeres\n",
        "X_female = df_female[['heartRate', 'totChol', 'glucose', 'sysBP', 'diabetes', 'prevalentHyp']]\n",
        "y_female = df_female['BMI']"
      ]
    },
    {
      "cell_type": "code",
      "execution_count": null,
      "id": "0a76ab1f-8ed3-48b1-8b1a-d0089f35c9f7",
      "metadata": {
        "id": "0a76ab1f-8ed3-48b1-8b1a-d0089f35c9f7"
      },
      "outputs": [],
      "source": [
        "# Codificar variables categóricas para hombres\n",
        "X_male_encoded = pd.get_dummies(X_male, columns=['diabetes', 'prevalentHyp'])\n",
        "X_male_encoded = X_male_encoded.astype(int)\n",
        "X_male_encoded = sm.add_constant(X_male_encoded)"
      ]
    },
    {
      "cell_type": "code",
      "execution_count": null,
      "id": "c87dfa98-7602-4e56-b48f-77ed71dcf6fc",
      "metadata": {
        "id": "c87dfa98-7602-4e56-b48f-77ed71dcf6fc",
        "outputId": "9c00bf8a-59a6-4b4e-837a-cf8ef9264b81"
      },
      "outputs": [
        {
          "name": "stdout",
          "output_type": "stream",
          "text": [
            "Modelo para Hombres:\n",
            "                            OLS Regression Results                            \n",
            "==============================================================================\n",
            "Dep. Variable:                    BMI   R-squared:                       0.078\n",
            "Model:                            OLS   Adj. R-squared:                  0.074\n",
            "Method:                 Least Squares   F-statistic:                     22.35\n",
            "Date:                Wed, 11 Sep 2024   Prob (F-statistic):           2.21e-25\n",
            "Time:                        10:35:45   Log-Likelihood:                -4041.8\n",
            "No. Observations:                1594   AIC:                             8098.\n",
            "Df Residuals:                    1587   BIC:                             8135.\n",
            "Df Model:                           6                                         \n",
            "Covariance Type:            nonrobust                                         \n",
            "==================================================================================\n",
            "                     coef    std err          t      P>|t|      [0.025      0.975]\n",
            "----------------------------------------------------------------------------------\n",
            "const              9.1894      0.633     14.520      0.000       7.948      10.431\n",
            "heartRate          0.0091      0.007      1.258      0.209      -0.005       0.023\n",
            "totChol            0.0107      0.002      5.315      0.000       0.007       0.015\n",
            "glucose            0.0102      0.007      1.389      0.165      -0.004       0.025\n",
            "sysBP              0.0257      0.006      4.185      0.000       0.014       0.038\n",
            "diabetes_0         5.1147      0.473     10.804      0.000       4.186       6.043\n",
            "diabetes_1         4.0747      0.709      5.749      0.000       2.685       5.465\n",
            "prevalentHyp_0     4.2019      0.284     14.793      0.000       3.645       4.759\n",
            "prevalentHyp_1     4.9875      0.381     13.098      0.000       4.241       5.734\n",
            "==============================================================================\n",
            "Omnibus:                        4.585   Durbin-Watson:                   1.993\n",
            "Prob(Omnibus):                  0.101   Jarque-Bera (JB):                4.649\n",
            "Skew:                           0.128   Prob(JB):                       0.0978\n",
            "Kurtosis:                       2.934   Cond. No.                     8.30e+18\n",
            "==============================================================================\n",
            "\n",
            "Notes:\n",
            "[1] Standard Errors assume that the covariance matrix of the errors is correctly specified.\n",
            "[2] The smallest eigenvalue is 1.92e-30. This might indicate that there are\n",
            "strong multicollinearity problems or that the design matrix is singular.\n"
          ]
        }
      ],
      "source": [
        "# Ajustar el modelo\n",
        "model_male = sm.OLS(y_male, X_male_encoded).fit()\n",
        "\n",
        "# Mostrar resultados\n",
        "print(\"Modelo para Hombres:\")\n",
        "print(model_male.summary())"
      ]
    },
    {
      "cell_type": "code",
      "execution_count": null,
      "id": "0b9dac3d-a026-421d-9fa1-2579dc6a4ebd",
      "metadata": {
        "id": "0b9dac3d-a026-421d-9fa1-2579dc6a4ebd",
        "outputId": "e638cbd5-9c26-46c2-e48b-f22a460662d0"
      },
      "outputs": [
        {
          "name": "stdout",
          "output_type": "stream",
          "text": [
            "Modelo para Mujeres:\n",
            "                            OLS Regression Results                            \n",
            "==============================================================================\n",
            "Dep. Variable:                    BMI   R-squared:                       0.112\n",
            "Model:                            OLS   Adj. R-squared:                  0.109\n",
            "Method:                 Least Squares   F-statistic:                     42.52\n",
            "Date:                Wed, 11 Sep 2024   Prob (F-statistic):           4.25e-49\n",
            "Time:                        10:37:23   Log-Likelihood:                -5369.4\n",
            "No. Observations:                2036   AIC:                         1.075e+04\n",
            "Df Residuals:                    2029   BIC:                         1.079e+04\n",
            "Df Model:                           6                                         \n",
            "Covariance Type:            nonrobust                                         \n",
            "==================================================================================\n",
            "                     coef    std err          t      P>|t|      [0.025      0.975]\n",
            "----------------------------------------------------------------------------------\n",
            "const              8.3421      0.620     13.450      0.000       7.126       9.558\n",
            "heartRate       6.954e-06      0.007      0.001      0.999      -0.014       0.014\n",
            "totChol            0.0085      0.002      4.515      0.000       0.005       0.012\n",
            "glucose            0.0176      0.008      2.169      0.030       0.002       0.034\n",
            "sysBP              0.0383      0.006      6.545      0.000       0.027       0.050\n",
            "diabetes_0         4.3340      0.492      8.807      0.000       3.369       5.299\n",
            "diabetes_1         4.0080      0.727      5.515      0.000       2.583       5.433\n",
            "prevalentHyp_0     3.7193      0.273     13.604      0.000       3.183       4.255\n",
            "prevalentHyp_1     4.6228      0.386     11.986      0.000       3.866       5.379\n",
            "==============================================================================\n",
            "Omnibus:                       63.286   Durbin-Watson:                   2.002\n",
            "Prob(Omnibus):                  0.000   Jarque-Bera (JB):               68.698\n",
            "Skew:                           0.450   Prob(JB):                     1.21e-15\n",
            "Kurtosis:                       3.039   Cond. No.                     2.24e+18\n",
            "==============================================================================\n",
            "\n",
            "Notes:\n",
            "[1] Standard Errors assume that the covariance matrix of the errors is correctly specified.\n",
            "[2] The smallest eigenvalue is 3.46e-29. This might indicate that there are\n",
            "strong multicollinearity problems or that the design matrix is singular.\n"
          ]
        }
      ],
      "source": [
        "# Codificar variables categóricas para mujeres\n",
        "X_female_encoded = pd.get_dummies(X_female, columns=['diabetes', 'prevalentHyp'])\n",
        "X_female_encoded = X_female_encoded.astype(int)\n",
        "X_female_encoded = sm.add_constant(X_female_encoded)\n",
        "\n",
        "# Ajustar el modelo\n",
        "model_female = sm.OLS(y_female, X_female_encoded).fit()\n",
        "\n",
        "# Mostrar resultados\n",
        "print(\"Modelo para Mujeres:\")\n",
        "print(model_female.summary())\n"
      ]
    },
    {
      "cell_type": "code",
      "execution_count": null,
      "id": "c4e98f90-36f8-45fd-9e23-bca088571737",
      "metadata": {
        "id": "c4e98f90-36f8-45fd-9e23-bca088571737"
      },
      "outputs": [],
      "source": [
        "\"\"\"\n",
        "Como se logra ver en el apartado de IMC (BMI en ingles) se notan diferencias sustanciales a raiz del sexo, esto nos permite acceder a diferentes valores\n",
        "y obtener distintas conclusiones basadas en el sexo de la persona.\n",
        "Tengo una variable extra de diabetes y de prevalent HYP, a esta altura ya me asusta modificar tanto el resultado, asi que prefiero dejarlos como variables\n",
        "aleatorias por el comando que otorga el \"Dummies\"\n",
        "\"\"\""
      ]
    },
    {
      "cell_type": "markdown",
      "id": "4facd1ca-5570-46f2-bbbd-cf77bed04e71",
      "metadata": {
        "id": "4facd1ca-5570-46f2-bbbd-cf77bed04e71"
      },
      "source": [
        "Comparacion de la regresion logistica"
      ]
    },
    {
      "cell_type": "code",
      "execution_count": null,
      "id": "7f112638-c196-4cf6-849e-21b269f5e029",
      "metadata": {
        "id": "7f112638-c196-4cf6-849e-21b269f5e029"
      },
      "outputs": [],
      "source": [
        "# Primero, a filtrar por sexo\n",
        "df_filtrado['sex'] = pd.to_numeric(df_filtrado['sex'], errors='coerce')\n",
        "df_male = df_filtrado[df_filtrado['sex'] == 1]\n",
        "df_female = df_filtrado[df_filtrado['sex'] == 0]"
      ]
    },
    {
      "cell_type": "code",
      "execution_count": null,
      "id": "6ff962a4-8c57-4186-8975-e994ffc90ab5",
      "metadata": {
        "id": "6ff962a4-8c57-4186-8975-e994ffc90ab5"
      },
      "outputs": [],
      "source": [
        "# Variables para hombres\n",
        "X_male = df_male[['heartRate', 'totChol', 'glucose', 'sysBP', 'diabetes', 'prevalentHyp']]\n",
        "y_male = df_male['TenYearCHD']\n",
        "\n",
        "# Variables para mujeres\n",
        "X_female = df_female[['heartRate', 'totChol', 'glucose', 'sysBP', 'diabetes', 'prevalentHyp']]\n",
        "y_female = df_female['TenYearCHD']"
      ]
    },
    {
      "cell_type": "code",
      "execution_count": null,
      "id": "0666cbf9-7872-4b81-92ee-cbef6b00ee95",
      "metadata": {
        "id": "0666cbf9-7872-4b81-92ee-cbef6b00ee95"
      },
      "outputs": [],
      "source": [
        "# Codificar variables categóricas para hombres\n",
        "X_male_encoded = pd.get_dummies(X_male, columns=['diabetes', 'prevalentHyp'])\n",
        "X_male_encoded = X_male_encoded.astype(int)\n",
        "\n",
        "# Codificar variables categóricas para mujeres\n",
        "X_female_encoded = pd.get_dummies(X_female, columns=['diabetes', 'prevalentHyp'])\n",
        "X_female_encoded = X_female_encoded.astype(int)"
      ]
    },
    {
      "cell_type": "code",
      "execution_count": null,
      "id": "ad1923f0-eab2-4bad-8491-ffe359b65f8e",
      "metadata": {
        "id": "ad1923f0-eab2-4bad-8491-ffe359b65f8e",
        "outputId": "197199dc-504b-4a00-a767-18ce11928234"
      },
      "outputs": [
        {
          "name": "stdout",
          "output_type": "stream",
          "text": [
            "Optimization terminated successfully.\n",
            "         Current function value: 0.433986\n",
            "         Iterations 20\n",
            "Resumen del modelo para hombres:\n",
            "                           Logit Regression Results                           \n",
            "==============================================================================\n",
            "Dep. Variable:             TenYearCHD   No. Observations:                 1594\n",
            "Model:                          Logit   Df Residuals:                     1587\n",
            "Method:                           MLE   Df Model:                            6\n",
            "Date:                Wed, 11 Sep 2024   Pseudo R-squ.:                 0.05220\n",
            "Time:                        11:41:23   Log-Likelihood:                -691.77\n",
            "converged:                       True   LL-Null:                       -729.88\n",
            "Covariance Type:            nonrobust   LLR p-value:                 2.168e-14\n",
            "==================================================================================\n",
            "                     coef    std err          z      P>|z|      [0.025      0.975]\n",
            "----------------------------------------------------------------------------------\n",
            "const             -3.8305        nan        nan        nan         nan         nan\n",
            "heartRate          0.0016      0.006      0.251      0.802      -0.011       0.014\n",
            "totChol            0.0039      0.002      2.187      0.029       0.000       0.007\n",
            "glucose            0.0012      0.006      0.192      0.848      -0.011       0.014\n",
            "sysBP              0.0338      0.005      6.376      0.000       0.023       0.044\n",
            "diabetes_0        -1.4466      3e+06  -4.83e-07      1.000   -5.87e+06    5.87e+06\n",
            "diabetes_1        -2.3840   3.06e+06  -7.78e-07      1.000      -6e+06       6e+06\n",
            "prevalentHyp_0    -1.8568   3.57e+06   -5.2e-07      1.000      -7e+06       7e+06\n",
            "prevalentHyp_1    -1.9737   3.57e+06  -5.53e-07      1.000      -7e+06       7e+06\n",
            "==================================================================================\n"
          ]
        }
      ],
      "source": [
        "# Modelo para hombres\n",
        "# Añadir constante (intercepto)\n",
        "X_male_encoded = sm.add_constant(X_male_encoded)\n",
        "\n",
        "# Ajustar el modelo\n",
        "model_male = sm.Logit(y_male, X_male_encoded).fit()\n",
        "\n",
        "# Mostrar resumen del modelo\n",
        "print(\"Resumen del modelo para hombres:\")\n",
        "print(model_male.summary())\n"
      ]
    },
    {
      "cell_type": "code",
      "execution_count": null,
      "id": "d5f12c80-b00c-4c44-9c08-f463d35d90eb",
      "metadata": {
        "id": "d5f12c80-b00c-4c44-9c08-f463d35d90eb",
        "outputId": "bf236d41-8cda-4b4b-8229-3584f94aac09"
      },
      "outputs": [
        {
          "name": "stdout",
          "output_type": "stream",
          "text": [
            "Optimization terminated successfully.\n",
            "         Current function value: 0.319457\n",
            "         Iterations 8\n",
            "Resumen del modelo para mujeres:\n",
            "                           Logit Regression Results                           \n",
            "==============================================================================\n",
            "Dep. Variable:             TenYearCHD   No. Observations:                 2036\n",
            "Model:                          Logit   Df Residuals:                     2029\n",
            "Method:                           MLE   Df Model:                            6\n",
            "Date:                Wed, 11 Sep 2024   Pseudo R-squ.:                 0.03450\n",
            "Time:                        11:41:34   Log-Likelihood:                -650.41\n",
            "converged:                       True   LL-Null:                       -673.65\n",
            "Covariance Type:            nonrobust   LLR p-value:                 2.373e-08\n",
            "==================================================================================\n",
            "                     coef    std err          z      P>|z|      [0.025      0.975]\n",
            "----------------------------------------------------------------------------------\n",
            "const             -1.5369   1.31e+07  -1.17e-07      1.000   -2.57e+07    2.57e+07\n",
            "heartRate         -0.0059      0.007     -0.840      0.401      -0.020       0.008\n",
            "totChol            0.0035      0.002      1.907      0.057    -9.7e-05       0.007\n",
            "glucose           -0.0041      0.008     -0.512      0.608      -0.020       0.012\n",
            "sysBP              0.0092      0.006      1.652      0.099      -0.002       0.020\n",
            "diabetes_0        -1.0432        nan        nan        nan         nan         nan\n",
            "diabetes_1        -0.4937        nan        nan        nan         nan         nan\n",
            "prevalentHyp_0    -1.0778   7.92e+06  -1.36e-07      1.000   -1.55e+07    1.55e+07\n",
            "prevalentHyp_1    -0.4591   7.92e+06   -5.8e-08      1.000   -1.55e+07    1.55e+07\n",
            "==================================================================================\n"
          ]
        }
      ],
      "source": [
        "#Modelo para mujeres\n",
        "# Añadir constante (intercepto)\n",
        "X_female_encoded = sm.add_constant(X_female_encoded)\n",
        "\n",
        "# Ajustar el modelo\n",
        "model_female = sm.Logit(y_female, X_female_encoded).fit()\n",
        "\n",
        "# Mostrar resumen del modelo\n",
        "print(\"Resumen del modelo para mujeres:\")\n",
        "print(model_female.summary())\n"
      ]
    },
    {
      "cell_type": "code",
      "execution_count": null,
      "id": "aa609a9f-436f-4ed0-8fc9-5559f30220f5",
      "metadata": {
        "id": "aa609a9f-436f-4ed0-8fc9-5559f30220f5",
        "outputId": "e314761c-5946-49f7-b5be-a22c854cc622"
      },
      "outputs": [
        {
          "name": "stdout",
          "output_type": "stream",
          "text": [
            "Coeficientes del modelo para hombres (sklearn):\n",
            "[[ 0.          0.01749608  0.14973202  0.01308988  0.56012177  0.03492233\n",
            "  -0.03492233  0.0248688  -0.0248688 ]]\n",
            "\n",
            "Coeficientes del modelo para mujeres (sklearn):\n",
            "[[ 0.         -0.06214166  0.14415662 -0.03775481  0.17256028 -0.01920046\n",
            "   0.01920046 -0.13280056  0.13280056]]\n"
          ]
        }
      ],
      "source": [
        "# Estandarizar variables\n",
        "scaler = StandardScaler()\n",
        "X_male_scaled = scaler.fit_transform(X_male_encoded)\n",
        "X_female_scaled = scaler.fit_transform(X_female_encoded)\n",
        "\n",
        "# Ajustar el modelo para hombres\n",
        "model_male_sklearn = LogisticRegression()\n",
        "model_male_sklearn.fit(X_male_scaled, y_male)\n",
        "\n",
        "# Ajustar el modelo para mujeres\n",
        "model_female_sklearn = LogisticRegression()\n",
        "model_female_sklearn.fit(X_female_scaled, y_female)\n",
        "\n",
        "# Mostrar coeficientes y métricas\n",
        "print(\"Coeficientes del modelo para hombres (sklearn):\")\n",
        "print(model_male_sklearn.coef_)\n",
        "print(\"\\nCoeficientes del modelo para mujeres (sklearn):\")\n",
        "print(model_female_sklearn.coef_)\n"
      ]
    },
    {
      "cell_type": "code",
      "execution_count": null,
      "id": "61b0d72d-a775-424f-8382-b85f9eff14bb",
      "metadata": {
        "id": "61b0d72d-a775-424f-8382-b85f9eff14bb"
      },
      "outputs": [],
      "source": [
        "\"\"\"\n",
        "Para finalizar, una separacion de sexos por cada tipo de analisis es significativo, los resultados (si bien negativos, no necesariamente implica que estan\n",
        "mal) son un claro ejemplo de que tanto los hombres como las mujeres se ven afectadas de manera diferente cuando consideramos el estimado de 10 años\n",
        "para enfermedades asociadas al corazon.\n",
        "\"\"\""
      ]
    }
  ],
  "metadata": {
    "kernelspec": {
      "display_name": "Python 3 (ipykernel)",
      "language": "python",
      "name": "python3"
    },
    "language_info": {
      "codemirror_mode": {
        "name": "ipython",
        "version": 3
      },
      "file_extension": ".py",
      "mimetype": "text/x-python",
      "name": "python",
      "nbconvert_exporter": "python",
      "pygments_lexer": "ipython3",
      "version": "3.11.7"
    },
    "colab": {
      "provenance": []
    }
  },
  "nbformat": 4,
  "nbformat_minor": 5
}